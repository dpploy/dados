{
 "cells": [
  {
   "cell_type": "markdown",
   "metadata": {},
   "source": [
    "[Cortix](https://cortix.org) Module 23May2019\n",
    "\n",
    "# DADOS-Data Acquisition and Distribution for Offline Systems"
   ]
  },
  {
   "cell_type": "markdown",
   "metadata": {},
   "source": [
    "### Template: Prof. Valmor F. de Almeida                 \n",
    "**Office:**    Pinanski Hall 301G. <br> \n",
    "**Email:**     valmor_dealmeida@uml.edu. <br>\n",
    "**Web:**       https://www.uml.edu/Engineering/Chemical/faculty/de-Almeida-Valmor.aspx <br>   \n",
    "**Lectures:** Kitson Hall 303, Mon, Wed 2:00 – 3:15 pm. <br>   \n",
    "**Days meetings total Mon/Wed:** 26. <br>\n",
    "**Week meetings total:** 14. <br>\n",
    "<span style=\"color:red\">**Website:**</span> On-line course [repository](https://github.com/dpploy/engy-4350) and UMass Lowell Blackboard System. <br>\n",
    "**Office hours and location:** meet at 3:30 – 4:00 pm, Mon/Wed at Pinanski Hall 301G. <br>\n",
    "**Other means of contact:**  email. <br>\n",
    "<span style=\"color:red\">**Computational support:**</span> UML Linux Group Spring meeting Wed 4:30 – 6:00 pm Pinanski Hall 301. <br>    \n",
    "**Teaching assistant:** please see office hours. <br>    \n",
    "**Catalog description:** <br>\n",
    "This course provides an overview of pertinent topics in basic nuclear heat generation and removal in a nuclear      reactor, power conversion, and overall system integration and safety.<br>    \n",
    "**Prerequisites:** ENGY-4340 Nuclear Reactor Theory, familiarity with thermo, fluids, and heat transfer.<br>\n",
    "**Co-requisites:** none.<br>\n",
    "**Course designation:** required. <br>"
   ]
  },
  {
   "cell_type": "markdown",
   "metadata": {},
   "source": [
    "**Work Schedule 2019**\n",
    "\n",
    "\n",
    "|**Week**|Day| **Date**  |**Task**|**Assessment**|**Note**|\n",
    "|:-------:|:-:|:---------:|:-----------:|:-------------:|:------:|\n",
    "| **1**  | M |**20May19**| Build plotting module for IR-7040 |     -     |    -    |\n",
    "| 1      | W |  22May19  | Connect DADOS and the plotting module using Cortix |     -     |    -    |\n",
    "| 1      | F |  24May19  | Make interface so users can interact with the database |   -   | - |\n",
    "| 2      | M |  27May19  | -  |   -   | - |\n",
    "| 2      | M |  29May19  | -  |   -   | - |\n",
    "| 2      | M |  31May19  | -  |   -   | - |\n",
    "|:------:|:-:|:---------:|:------------------------------------------------------:|:-------------:|:------:|\n",
    "| **3**  | M |**03Jun19**|-       |       -       |   -     |-  |\n",
    "| 3      | W |  05Jun19  | -  |   -   | - |\n",
    "| 3      | W |  07Jun19  | -  |   -   | - |\n",
    "| 4      | W |  10Jun19  | -  |   -   | - |\n",
    "| 4      | W |  12Jun19  | -  |   -   | - |\n",
    "| 4      | W |  14Jun19  | -  |   -   | - |\n",
    "| 5      | W |  17Jun19  | -  |   -   | - |\n",
    "| 5      | W |  19Jun19  | -  |   -   | - |\n",
    "| 5      | W |  21Jun19  | -  |   -   | - |\n",
    "| 6      | W |  24Jun19  | -  |   -   | - |\n",
    "| 6      | W |  26Jun19  | -  |   -   | - |\n",
    "| 6      | W |  28Jun19  | -  |   -   | - |\n",
    "|:------:|:-:|:---------:|:------------------------------------------------------:|:-------------:|:------:|\n",
    "| **7**  | M |**01Jul19**|-       |       -       |   -     |-  |\n",
    "| 7      | W |  03Jul19  | -  |   -   | - |\n",
    "| 7      | W |  05Jul19  | -  |   -   | - |\n",
    "| 8      | W |  08Jul19  | -  |   -   | - |\n",
    "| 8      | W |  10Jul19  | -  |   -   | - |\n",
    "| 8      | W |  12Jul19  | -  |   -   | - |\n",
    "| 9      | W |  15Jul19  | -  |   -   | - |\n",
    "| 9      | W |  17Jul19  | -  |   -   | - |\n",
    "| 9      | W |  19Jul19  | -  |   -   | - |"
   ]
  },
  {
   "cell_type": "code",
   "execution_count": null,
   "metadata": {},
   "outputs": [],
   "source": []
  }
 ],
 "metadata": {
  "kernelspec": {
   "display_name": "Python 3",
   "language": "python",
   "name": "python3"
  },
  "language_info": {
   "codemirror_mode": {
    "name": "ipython",
    "version": 3
   },
   "file_extension": ".py",
   "mimetype": "text/x-python",
   "name": "python",
   "nbconvert_exporter": "python",
   "pygments_lexer": "ipython3",
   "version": "3.7.1"
  },
  "latex_envs": {
   "LaTeX_envs_menu_present": true,
   "autoclose": false,
   "autocomplete": true,
   "bibliofile": "biblio.bib",
   "cite_by": "apalike",
   "current_citInitial": 1,
   "eqLabelWithNumbers": true,
   "eqNumInitial": 1,
   "hotkeys": {
    "equation": "Ctrl-E",
    "itemize": "Ctrl-I"
   },
   "labels_anchors": false,
   "latex_user_defs": false,
   "report_style_numbering": false,
   "user_envs_cfg": false
  }
 },
 "nbformat": 4,
 "nbformat_minor": 2
}
